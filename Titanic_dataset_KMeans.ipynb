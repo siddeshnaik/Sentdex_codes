{
  "nbformat": 4,
  "nbformat_minor": 0,
  "metadata": {
    "colab": {
      "name": "Titanic_dataset.ipynb",
      "provenance": [],
      "private_outputs": true,
      "collapsed_sections": [],
      "authorship_tag": "ABX9TyNV6ir3goIzDOlnzu2McwFv",
      "include_colab_link": true
    },
    "kernelspec": {
      "name": "python3",
      "display_name": "Python 3"
    }
  },
  "cells": [
    {
      "cell_type": "markdown",
      "metadata": {
        "id": "view-in-github",
        "colab_type": "text"
      },
      "source": [
        "<a href=\"https://colab.research.google.com/github/siddeshnaik/Sentdex_codes/blob/master/Titanic_dataset_KMeans.ipynb\" target=\"_parent\"><img src=\"https://colab.research.google.com/assets/colab-badge.svg\" alt=\"Open In Colab\"/></a>"
      ]
    },
    {
      "cell_type": "code",
      "metadata": {
        "id": "JkLZtGdXvFvE",
        "colab_type": "code",
        "colab": {}
      },
      "source": [
        "!wget https://pythonprogramming.net/static/downloads/machine-learning-data/titanic.xls"
      ],
      "execution_count": null,
      "outputs": []
    },
    {
      "cell_type": "code",
      "metadata": {
        "id": "zhd8gcgqvXGY",
        "colab_type": "code",
        "colab": {}
      },
      "source": [
        "import matplotlib.pyplot as plt\n",
        "from matplotlib import style\n",
        "style.use(\"ggplot\")\n",
        "import numpy as np\n",
        "from sklearn.cluster import KMeans\n",
        "import pandas as pd"
      ],
      "execution_count": null,
      "outputs": []
    },
    {
      "cell_type": "code",
      "metadata": {
        "id": "uRLWQspdw9ji",
        "colab_type": "code",
        "colab": {}
      },
      "source": [
        "df = pd.read_excel(\"titanic.xls\")\n",
        "df.head()"
      ],
      "execution_count": null,
      "outputs": []
    },
    {
      "cell_type": "code",
      "metadata": {
        "id": "zVa1mjzUxIa0",
        "colab_type": "code",
        "colab": {}
      },
      "source": [
        "df.info()"
      ],
      "execution_count": null,
      "outputs": []
    },
    {
      "cell_type": "code",
      "metadata": {
        "id": "06XDV6yPyBKg",
        "colab_type": "code",
        "colab": {}
      },
      "source": [
        "from sklearn import preprocessing \n",
        "from sklearn.model_selection import train_test_split"
      ],
      "execution_count": null,
      "outputs": []
    },
    {
      "cell_type": "code",
      "metadata": {
        "id": "AoAorEy30yc5",
        "colab_type": "code",
        "colab": {}
      },
      "source": [
        "df.drop([\"body\",\"name\"], 1, inplace=True)\n",
        "df.head()"
      ],
      "execution_count": null,
      "outputs": []
    },
    {
      "cell_type": "code",
      "metadata": {
        "id": "ZLBgGQiV09TZ",
        "colab_type": "code",
        "colab": {}
      },
      "source": [
        "df[\"sex\"]=df.sex.replace(\"female\",0).replace(\"male\",1) #female =0 male =1"
      ],
      "execution_count": null,
      "outputs": []
    },
    {
      "cell_type": "code",
      "metadata": {
        "id": "G-9f2eGF1Ipe",
        "colab_type": "code",
        "colab": {}
      },
      "source": [
        "df.head()"
      ],
      "execution_count": null,
      "outputs": []
    },
    {
      "cell_type": "code",
      "metadata": {
        "id": "uwFWyMzn2btF",
        "colab_type": "code",
        "colab": {}
      },
      "source": [
        "df.embarked.unique()"
      ],
      "execution_count": null,
      "outputs": []
    },
    {
      "cell_type": "code",
      "metadata": {
        "id": "pJx5IYQp2v-L",
        "colab_type": "code",
        "colab": {}
      },
      "source": [
        "df[df.embarked.isnull()== True] "
      ],
      "execution_count": null,
      "outputs": []
    },
    {
      "cell_type": "code",
      "metadata": {
        "id": "YCQfEz5Y254v",
        "colab_type": "code",
        "colab": {}
      },
      "source": [
        "df.embarked.fillna(\"Q\",inplace=True)"
      ],
      "execution_count": null,
      "outputs": []
    },
    {
      "cell_type": "code",
      "metadata": {
        "id": "MqUKWHDT3YNh",
        "colab_type": "code",
        "colab": {}
      },
      "source": [
        "df.info()"
      ],
      "execution_count": null,
      "outputs": []
    },
    {
      "cell_type": "code",
      "metadata": {
        "id": "3xRNKvsQ6XsK",
        "colab_type": "code",
        "colab": {}
      },
      "source": [
        "!wget https://pythonprogramming.net/static/downloads/machine-learning-data/titanic.xls\n",
        "df1 = pd.read_excel(r\"/content/titanic.xls.1\")"
      ],
      "execution_count": null,
      "outputs": []
    },
    {
      "cell_type": "code",
      "metadata": {
        "id": "XW7ZO0FH6wKV",
        "colab_type": "code",
        "colab": {}
      },
      "source": [
        "df1.drop(['body','name'], 1, inplace=True)\n",
        "df1.fillna(0, inplace=True)\n",
        "df1.head()"
      ],
      "execution_count": null,
      "outputs": []
    },
    {
      "cell_type": "code",
      "metadata": {
        "id": "OXETyR7e40pK",
        "colab_type": "code",
        "colab": {}
      },
      "source": [
        "def handle_non_numerical_data(df):\n",
        "    columns = df.columns.values\n",
        "    print(\"columns:\",columns)\n",
        "    for column in columns:\n",
        "        text_digit_vals = {}\n",
        "        def convert_to_int(val):\n",
        "            return text_digit_vals[val]\n",
        "\n",
        "        if df[column].dtype != np.int64 and df[column].dtype != np.float64:\n",
        "            column_contents = df1[column].values.tolist()\n",
        "            print(\"\\n\\nColum:\",column,\"\\n\")\n",
        "            print(\"column_contents:\",column_contents)\n",
        "            unique_elements = set(column_contents)\n",
        "            print(\"unique_elements:\",unique_elements)\n",
        "            x = 0\n",
        "            for unique in unique_elements:\n",
        "                if unique not in text_digit_vals:\n",
        "                    text_digit_vals[unique] = x\n",
        "                    x+=1\n",
        "            print(\"text_digit_vals:\",text_digit_vals)\n",
        "            df[column] = list(map(convert_to_int, df[column]))\n",
        "    return df\n",
        "\n",
        "df1 = handle_non_numerical_data(df1)\n",
        "print(df1.head())"
      ],
      "execution_count": null,
      "outputs": []
    },
    {
      "cell_type": "code",
      "metadata": {
        "id": "3AHcgeb45_K2",
        "colab_type": "code",
        "colab": {}
      },
      "source": [
        "df1.head()"
      ],
      "execution_count": null,
      "outputs": []
    },
    {
      "cell_type": "code",
      "metadata": {
        "id": "uMFV9l7D824k",
        "colab_type": "code",
        "colab": {}
      },
      "source": [
        "X = np.array(df1.drop([\"survived\"],1).astype(float))\n",
        "y = np.array(df[\"survived\"])"
      ],
      "execution_count": null,
      "outputs": []
    },
    {
      "cell_type": "code",
      "metadata": {
        "id": "arCdTiKWNEaX",
        "colab_type": "code",
        "colab": {}
      },
      "source": [
        "clf = KMeans(n_clusters=2)\n",
        "clf.fit(X)"
      ],
      "execution_count": null,
      "outputs": []
    },
    {
      "cell_type": "code",
      "metadata": {
        "id": "tU04UHpENNzH",
        "colab_type": "code",
        "colab": {}
      },
      "source": [
        "clf.labels_"
      ],
      "execution_count": null,
      "outputs": []
    },
    {
      "cell_type": "code",
      "metadata": {
        "id": "pM6FCqNRNcXW",
        "colab_type": "code",
        "colab": {}
      },
      "source": [
        "correct = 0\n",
        "for i in range(len(X)):\n",
        "    predict_me = np.array(X[i].astype(float))\n",
        "    predict_me = predict_me.reshape(-1, len(predict_me))\n",
        "    prediction = clf.predict(predict_me)\n",
        "    if prediction[0] == y[i]:\n",
        "        correct += 1\n",
        "\n",
        "print(correct/len(X))\n"
      ],
      "execution_count": null,
      "outputs": []
    },
    {
      "cell_type": "code",
      "metadata": {
        "id": "uLH3tTBJNmld",
        "colab_type": "code",
        "colab": {}
      },
      "source": [
        "clf.cluster_centers_"
      ],
      "execution_count": null,
      "outputs": []
    },
    {
      "cell_type": "code",
      "metadata": {
        "id": "f2GXm08vOysf",
        "colab_type": "code",
        "colab": {}
      },
      "source": [
        ""
      ],
      "execution_count": null,
      "outputs": []
    },
    {
      "cell_type": "code",
      "metadata": {
        "id": "YQU6A94RPE2f",
        "colab_type": "code",
        "colab": {}
      },
      "source": [
        ""
      ],
      "execution_count": null,
      "outputs": []
    }
  ]
}