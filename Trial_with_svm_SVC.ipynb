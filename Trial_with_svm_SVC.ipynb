{
  "nbformat": 4,
  "nbformat_minor": 0,
  "metadata": {
    "colab": {
      "name": "Trial_with_svm.SVC.ipynb",
      "provenance": [],
      "private_outputs": true
    },
    "kernelspec": {
      "name": "python3",
      "display_name": "Python 3"
    }
  },
  "cells": [
    {
      "cell_type": "code",
      "metadata": {
        "id": "amxfw2oj3l4w",
        "colab_type": "code",
        "colab": {}
      },
      "source": [
        "import numpy as np\n",
        "import pandas as pd\n",
        "from matplotlib import style\n",
        "style.use(\"ggplot\")\n",
        "import matplotlib.pyplot as plt\n",
        "from sklearn import svm"
      ],
      "execution_count": null,
      "outputs": []
    },
    {
      "cell_type": "code",
      "metadata": {
        "id": "dwciKQrY34Dk",
        "colab_type": "code",
        "colab": {}
      },
      "source": [
        "x=[1,5,1.5,8,1,9]\n",
        "y=[2,8,1.8,8,0.6,11]"
      ],
      "execution_count": null,
      "outputs": []
    },
    {
      "cell_type": "code",
      "metadata": {
        "id": "t6jqWIvB4T1y",
        "colab_type": "code",
        "colab": {}
      },
      "source": [
        "plt.scatter(x,y)"
      ],
      "execution_count": null,
      "outputs": []
    },
    {
      "cell_type": "code",
      "metadata": {
        "id": "pQxWWuBn42S9",
        "colab_type": "code",
        "colab": {}
      },
      "source": [
        "X=np.array([[1,2],[5,8],[1.5,1.8],[8,8],[1,0.6],[9,11]])\n",
        "y=[0,1,0,1,0,1]"
      ],
      "execution_count": null,
      "outputs": []
    },
    {
      "cell_type": "code",
      "metadata": {
        "id": "pYqulhTo49SS",
        "colab_type": "code",
        "colab": {}
      },
      "source": [
        "clf=svm.SVC(kernel=\"linear\", C=1.0)\n",
        "clf.fit(X,y)"
      ],
      "execution_count": null,
      "outputs": []
    },
    {
      "cell_type": "code",
      "metadata": {
        "id": "W4P2lKD-6M7G",
        "colab_type": "code",
        "colab": {}
      },
      "source": [
        "x_test=np.array([1,2]).reshape(1,-1)\n",
        "print(clf.predict(x_test))"
      ],
      "execution_count": null,
      "outputs": []
    },
    {
      "cell_type": "code",
      "metadata": {
        "id": "fwRta7Ao6jtr",
        "colab_type": "code",
        "colab": {}
      },
      "source": [
        "x_test=np.array([20,20]).reshape(1,-1)\n",
        "print(clf.predict(x_test))"
      ],
      "execution_count": null,
      "outputs": []
    },
    {
      "cell_type": "code",
      "metadata": {
        "id": "vTCM3meK7br7",
        "colab_type": "code",
        "colab": {}
      },
      "source": [
        "w = clf.coef_[0]\n",
        "print(w)\n",
        "\n",
        "a = -w[0] / w[1]\n",
        "\n",
        "xx = np.linspace(0,12)\n",
        "yy = a * xx - clf.intercept_[0] / w[1]\n",
        "\n",
        "h0 = plt.plot(xx, yy, 'k-', label=\"non weighted div\")\n",
        "\n",
        "plt.scatter(X[:, 0], X[:, 1], c = y)\n",
        "plt.legend()\n",
        "plt.show()"
      ],
      "execution_count": null,
      "outputs": []
    },
    {
      "cell_type": "code",
      "metadata": {
        "id": "SJkr7If28QX3",
        "colab_type": "code",
        "colab": {}
      },
      "source": [
        ""
      ],
      "execution_count": null,
      "outputs": []
    }
  ]
}