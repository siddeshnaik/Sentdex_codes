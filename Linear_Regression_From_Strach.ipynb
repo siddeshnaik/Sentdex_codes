{
  "nbformat": 4,
  "nbformat_minor": 0,
  "metadata": {
    "colab": {
      "name": "Linear_Regression_From_Strach.ipynb",
      "provenance": [],
      "private_outputs": true,
      "collapsed_sections": [],
      "authorship_tag": "ABX9TyP2Yzhv9VRJ/mT9rQqK7BVn",
      "include_colab_link": true
    },
    "kernelspec": {
      "name": "python3",
      "display_name": "Python 3"
    }
  },
  "cells": [
    {
      "cell_type": "markdown",
      "metadata": {
        "id": "view-in-github",
        "colab_type": "text"
      },
      "source": [
        "<a href=\"https://colab.research.google.com/github/siddeshnaik/Sentdex_codes/blob/master/Linear_Regression_From_Strach.ipynb\" target=\"_parent\"><img src=\"https://colab.research.google.com/assets/colab-badge.svg\" alt=\"Open In Colab\"/></a>"
      ]
    },
    {
      "cell_type": "code",
      "metadata": {
        "id": "f_6-qb4GIYdm",
        "colab_type": "code",
        "colab": {}
      },
      "source": [
        "from statistics import mean\n",
        "import numpy as np"
      ],
      "execution_count": null,
      "outputs": []
    },
    {
      "cell_type": "code",
      "metadata": {
        "id": "m8klFlOcIlXO",
        "colab_type": "code",
        "colab": {}
      },
      "source": [
        "from matplotlib import pyplot as plt"
      ],
      "execution_count": null,
      "outputs": []
    },
    {
      "cell_type": "code",
      "metadata": {
        "id": "w8At4xXCIwTq",
        "colab_type": "code",
        "colab": {}
      },
      "source": [
        "xs=np.array([1,2,3,4,5,6], dtype =np.float64)\n",
        "ys=np.array([5,4,6,5,6,7], dtype =np.float64)"
      ],
      "execution_count": null,
      "outputs": []
    },
    {
      "cell_type": "code",
      "metadata": {
        "id": "M58WPKX6I5BZ",
        "colab_type": "code",
        "colab": {}
      },
      "source": [
        "plt.plot(xs,ys)"
      ],
      "execution_count": null,
      "outputs": []
    },
    {
      "cell_type": "code",
      "metadata": {
        "id": "CCgI6A3oI77w",
        "colab_type": "code",
        "colab": {}
      },
      "source": [
        "plt.scatter(xs,ys)"
      ],
      "execution_count": null,
      "outputs": []
    },
    {
      "cell_type": "code",
      "metadata": {
        "id": "bB5JGuNJJEHx",
        "colab_type": "code",
        "colab": {}
      },
      "source": [
        "def best_fit_slope_and_incercept(xs,ys):\n",
        "    m = (mean(xs)*mean(ys) - mean(xs*ys))/(mean(xs)*mean(xs) - mean(xs*xs))\n",
        "    b = mean(ys) - m*mean(xs)\n",
        "    return m,b"
      ],
      "execution_count": null,
      "outputs": []
    },
    {
      "cell_type": "code",
      "metadata": {
        "id": "DeHokWNivtkc",
        "colab_type": "code",
        "colab": {}
      },
      "source": [
        "def squared_error(ys, regression_line_and_mean_line):\n",
        "    print(\"ys_original:\",ys,\"\\n\\n\",\"ys_line:\",regression_line_and_mean_line)\n",
        "    return sum((regression_line_and_mean_line -ys)**2)"
      ],
      "execution_count": null,
      "outputs": []
    },
    {
      "cell_type": "code",
      "metadata": {
        "id": "QFBfyXOtwZf_",
        "colab_type": "code",
        "colab": {}
      },
      "source": [
        "def coefficient_of_determination(ys, regression_line):\n",
        "    y_mean_line = [mean(ys) for y in ys]\n",
        "    print(\"y_mean_line:\",y_mean_line)\n",
        "    squared_error_regr = squared_error(ys, regression_line)\n",
        "    print(\"squared_error_regr:\",squared_error_regr)\n",
        "    squared_error_y_mean = squared_error(ys, y_mean_line)\n",
        "    print(\"squared_error_y_mean:\",squared_error_y_mean)\n",
        "    return 1 - (squared_error_regr/squared_error_y_mean)"
      ],
      "execution_count": null,
      "outputs": []
    },
    {
      "cell_type": "code",
      "metadata": {
        "id": "OzRjoS1UKfMa",
        "colab_type": "code",
        "colab": {}
      },
      "source": [
        "m,b =best_fit_slope_and_incercept(xs,ys)\n",
        "r_squared =coefficient_of_determination(ys, regression_line)\n",
        "print(\"r_squared:\",r_squared)\n",
        "print(\"Regression:\",regression_line)"
      ],
      "execution_count": null,
      "outputs": []
    },
    {
      "cell_type": "code",
      "metadata": {
        "id": "m4DnV-5bKv6z",
        "colab_type": "code",
        "colab": {}
      },
      "source": [
        "print(m,\"\\n\",b)"
      ],
      "execution_count": null,
      "outputs": []
    },
    {
      "cell_type": "code",
      "metadata": {
        "id": "nWhO4tcELLFa",
        "colab_type": "code",
        "colab": {}
      },
      "source": [
        "regression_line =[(m*x)+b for x in xs]\n",
        "#same as \n",
        "regression_line_1 =[]\n",
        "for x in xs:\n",
        "    regression_line_1.append((m*x) + b) \n"
      ],
      "execution_count": null,
      "outputs": []
    },
    {
      "cell_type": "code",
      "metadata": {
        "id": "Z14Zc5H3OzJC",
        "colab_type": "code",
        "colab": {}
      },
      "source": [
        "print(regression_line,\"\\n\\n\",regression_line_1)"
      ],
      "execution_count": null,
      "outputs": []
    },
    {
      "cell_type": "code",
      "metadata": {
        "id": "MwYmXtrTPLcC",
        "colab_type": "code",
        "colab": {}
      },
      "source": [
        "plt.plot(xs,regression_line)\n",
        "plt.show()"
      ],
      "execution_count": null,
      "outputs": []
    },
    {
      "cell_type": "code",
      "metadata": {
        "id": "aVZ6A5yNP7e6",
        "colab_type": "code",
        "colab": {}
      },
      "source": [
        "from matplotlib import style\n",
        "style.use('ggplot')\n",
        "plt.scatter(xs,ys,color=\"green\")\n",
        "plt.plot(xs,regression_line)\n",
        "plt.show()"
      ],
      "execution_count": null,
      "outputs": []
    },
    {
      "cell_type": "code",
      "metadata": {
        "id": "0NAN1rAvQLD5",
        "colab_type": "code",
        "colab": {}
      },
      "source": [
        "predict_x = 8\n",
        "predict_y = (m*predict_x) + b\n",
        "plt.scatter(xs,ys,color=\"green\")\n",
        "plt.scatter(predict_x,predict_y,color = \"blue\")\n",
        "plt.plot(xs,regression_line)\n",
        "plt.show()\n"
      ],
      "execution_count": null,
      "outputs": []
    },
    {
      "cell_type": "code",
      "metadata": {
        "id": "MuUftMEQS0O9",
        "colab_type": "code",
        "colab": {}
      },
      "source": [
        ""
      ],
      "execution_count": null,
      "outputs": []
    }
  ]
}