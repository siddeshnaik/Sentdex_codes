{
  "nbformat": 4,
  "nbformat_minor": 0,
  "metadata": {
    "colab": {
      "name": "Regression_Google_Stock.ipynb",
      "provenance": [],
      "private_outputs": true,
      "authorship_tag": "ABX9TyPxp8ycK81d84xspdwyACZU",
      "include_colab_link": true
    },
    "kernelspec": {
      "name": "python3",
      "display_name": "Python 3"
    }
  },
  "cells": [
    {
      "cell_type": "markdown",
      "metadata": {
        "id": "view-in-github",
        "colab_type": "text"
      },
      "source": [
        "<a href=\"https://colab.research.google.com/github/siddeshnaik/Sentdex_codes/blob/master/Regression_Google_Stock.ipynb\" target=\"_parent\"><img src=\"https://colab.research.google.com/assets/colab-badge.svg\" alt=\"Open In Colab\"/></a>"
      ]
    },
    {
      "cell_type": "code",
      "metadata": {
        "id": "hrKOwhZvCohC",
        "colab_type": "code",
        "colab": {}
      },
      "source": [
        "import pandas as pd\n",
        "import numpy as np\n",
        "!pip install quandl\n",
        "import quandl"
      ],
      "execution_count": null,
      "outputs": []
    },
    {
      "cell_type": "code",
      "metadata": {
        "id": "8Yx-MJcDDFgP",
        "colab_type": "code",
        "colab": {}
      },
      "source": [
        "df=quandl.get(\"WIKI/GOOGL\")"
      ],
      "execution_count": null,
      "outputs": []
    },
    {
      "cell_type": "code",
      "metadata": {
        "id": "UWNTthWuDlAi",
        "colab_type": "code",
        "colab": {}
      },
      "source": [
        "df"
      ],
      "execution_count": null,
      "outputs": []
    },
    {
      "cell_type": "code",
      "metadata": {
        "id": "YijAkl6yDmn3",
        "colab_type": "code",
        "colab": {}
      },
      "source": [
        "df.columns"
      ],
      "execution_count": null,
      "outputs": []
    },
    {
      "cell_type": "code",
      "metadata": {
        "id": "haQbznOAD4cw",
        "colab_type": "code",
        "colab": {}
      },
      "source": [
        "df=df[['Adj. Open', 'Adj. High', 'Adj. Low', 'Adj. Close', 'Adj. Volume']]\n",
        "df.head()"
      ],
      "execution_count": null,
      "outputs": []
    },
    {
      "cell_type": "code",
      "metadata": {
        "id": "bZf4m711EGY9",
        "colab_type": "code",
        "colab": {}
      },
      "source": [
        "df[\"HL_PCT\"]=(df[\"Adj. High\"]-df[\"Adj. Close\"])/df[\"Adj. Close\"]*100\n",
        "df[\"PCT_Change\"]=(df[\"Adj. Close\"]-df[\"Adj. Open\"])/df[\"Adj. Open\"]*100"
      ],
      "execution_count": null,
      "outputs": []
    },
    {
      "cell_type": "code",
      "metadata": {
        "id": "Aa55E-ZFEmQM",
        "colab_type": "code",
        "colab": {}
      },
      "source": [
        "df.head()"
      ],
      "execution_count": null,
      "outputs": []
    },
    {
      "cell_type": "code",
      "metadata": {
        "id": "kVhcGAPIEoJr",
        "colab_type": "code",
        "colab": {}
      },
      "source": [
        "df =df[[\"Adj. Close\",\"HL_PCT\",\"PCT_Change\",\"Adj. Volume\"]]"
      ],
      "execution_count": null,
      "outputs": []
    },
    {
      "cell_type": "code",
      "metadata": {
        "id": "P_4B6W-vFY8m",
        "colab_type": "code",
        "colab": {}
      },
      "source": [
        "df.head()"
      ],
      "execution_count": null,
      "outputs": []
    },
    {
      "cell_type": "code",
      "metadata": {
        "id": "W-Fo4Sm_FaVw",
        "colab_type": "code",
        "colab": {}
      },
      "source": [
        "forcaste_col=\"Adj. Close\""
      ],
      "execution_count": null,
      "outputs": []
    },
    {
      "cell_type": "code",
      "metadata": {
        "id": "Z3X_YH3iGNZh",
        "colab_type": "code",
        "colab": {}
      },
      "source": [
        "df.fillna(-99999, inplace = True)"
      ],
      "execution_count": null,
      "outputs": []
    },
    {
      "cell_type": "code",
      "metadata": {
        "id": "C2xjEdQDGP70",
        "colab_type": "code",
        "colab": {}
      },
      "source": [
        "import math \n",
        "forcast_out= int(math.ceil(0.01*len(df)))\n",
        "forcast_out"
      ],
      "execution_count": null,
      "outputs": []
    },
    {
      "cell_type": "code",
      "metadata": {
        "id": "NJJaCvKPHrmZ",
        "colab_type": "code",
        "colab": {}
      },
      "source": [
        "df[\"labels\"]=df[forcaste_col]"
      ],
      "execution_count": null,
      "outputs": []
    },
    {
      "cell_type": "code",
      "metadata": {
        "id": "vIs5v-bWMH1j",
        "colab_type": "code",
        "colab": {}
      },
      "source": [
        "df"
      ],
      "execution_count": null,
      "outputs": []
    },
    {
      "cell_type": "code",
      "metadata": {
        "id": "wHZwxn5AMXpg",
        "colab_type": "code",
        "colab": {}
      },
      "source": [
        "df[\"labels\"]=df[forcaste_col].shift(-forcast_out)"
      ],
      "execution_count": null,
      "outputs": []
    },
    {
      "cell_type": "code",
      "metadata": {
        "id": "GJUgNcS8MuU0",
        "colab_type": "code",
        "colab": {}
      },
      "source": [
        "df.dropna(inplace=True)"
      ],
      "execution_count": null,
      "outputs": []
    },
    {
      "cell_type": "code",
      "metadata": {
        "id": "A-pOwoU_Mvdb",
        "colab_type": "code",
        "colab": {}
      },
      "source": [
        "df"
      ],
      "execution_count": null,
      "outputs": []
    },
    {
      "cell_type": "code",
      "metadata": {
        "id": "rzxZxUWhNYSe",
        "colab_type": "code",
        "colab": {}
      },
      "source": [
        "from sklearn import preprocessing, svm\n",
        "# from sklearn.ensemble import cross_validate\n",
        "from sklearn.linear_model import LinearRegression\n",
        "from sklearn.model_selection import train_test_split\n",
        "import pickle"
      ],
      "execution_count": null,
      "outputs": []
    },
    {
      "cell_type": "code",
      "metadata": {
        "id": "Y9RZTMrZbtNm",
        "colab_type": "code",
        "colab": {}
      },
      "source": [
        "X=np.array(df.drop([\"labels\"], axis =1))\n",
        "X = X[:-forcast_out]\n",
        "X_lately = X[-forcast_out:]\n",
        "X = preprocessing.scale(X)\n",
        "df.dropna(inplace=True)\n",
        "y= np.array(df[\"labels\"])\n",
        "y = y[:-forcast_out]\n"
      ],
      "execution_count": null,
      "outputs": []
    },
    {
      "cell_type": "code",
      "metadata": {
        "id": "k5npN6XMcYBA",
        "colab_type": "code",
        "colab": {}
      },
      "source": [
        "print(X.shape)\n",
        "print(y.shape)"
      ],
      "execution_count": null,
      "outputs": []
    },
    {
      "cell_type": "code",
      "metadata": {
        "id": "i7OaYQhIcuWo",
        "colab_type": "code",
        "colab": {}
      },
      "source": [
        "X_train, X_test, y_train, y_test = train_test_split(X, y, test_size=0.2, random_state=3)"
      ],
      "execution_count": null,
      "outputs": []
    },
    {
      "cell_type": "code",
      "metadata": {
        "id": "xC8dp8RkdiKs",
        "colab_type": "code",
        "colab": {}
      },
      "source": [
        "clf = LinearRegression(n_jobs=-1)\n",
        "clf.fit(X_train,y_train)\n",
        "with open('linearregression.pickle','wb') as f:\n",
        "    pickle.dump(clf, f)"
      ],
      "execution_count": null,
      "outputs": []
    },
    {
      "cell_type": "code",
      "metadata": {
        "id": "R8NHAeRXdwoJ",
        "colab_type": "code",
        "colab": {}
      },
      "source": [
        "accuracy = clf.score(X_test,y_test)\n",
        "accuracy"
      ],
      "execution_count": null,
      "outputs": []
    },
    {
      "cell_type": "code",
      "metadata": {
        "id": "4kxnhldpd4K3",
        "colab_type": "code",
        "colab": {}
      },
      "source": [
        "clf_1 = svm.SVR()\n",
        "clf_1.fit(X_train,y_train)\n",
        "with open('SVR.pickle','wb') as f:\n",
        "    pickle.dump(clf_1, f)\n",
        "accuracy_1 = clf.score(X_test,y_test)\n",
        "accuracy_1"
      ],
      "execution_count": null,
      "outputs": []
    },
    {
      "cell_type": "code",
      "metadata": {
        "id": "2ztBQHtaeTcO",
        "colab_type": "code",
        "colab": {}
      },
      "source": [
        "prediction_val=clf.predict(X_lately)"
      ],
      "execution_count": null,
      "outputs": []
    },
    {
      "cell_type": "code",
      "metadata": {
        "id": "EE2CYdaphjVj",
        "colab_type": "code",
        "colab": {}
      },
      "source": [
        "print(\"Predicion:\",prediction_val,\"\\n\\n\",\"Accuracy_LinearRegression :\",acccuracy,\"\\n\\n\",\"Forcasting period:\",forcast_out)"
      ],
      "execution_count": null,
      "outputs": []
    },
    {
      "cell_type": "code",
      "metadata": {
        "id": "eE3lYoGKiO--",
        "colab_type": "code",
        "colab": {}
      },
      "source": [
        "import datetime\n",
        "import matplotlib.pyplot as plt\n",
        "from matplotlib import style\n",
        "style.use('ggplot')"
      ],
      "execution_count": null,
      "outputs": []
    },
    {
      "cell_type": "code",
      "metadata": {
        "id": "WaABj-fLjFbW",
        "colab_type": "code",
        "colab": {}
      },
      "source": [
        "df['Forecast'] = np.nan\n",
        "last_date = df.iloc[-1].name\n",
        "last_unix = last_date.timestamp()\n",
        "one_day = 86400\n",
        "next_unix = last_unix + one_day"
      ],
      "execution_count": null,
      "outputs": []
    },
    {
      "cell_type": "code",
      "metadata": {
        "id": "VixuJqNQjTPe",
        "colab_type": "code",
        "colab": {}
      },
      "source": [
        "for i in prediction_val:\n",
        "    next_date = datetime.datetime.fromtimestamp(next_unix)\n",
        "    next_unix += 86400\n",
        "    df.loc[next_date] = [np.nan for _ in range(len(df.columns)-1)]+[i]"
      ],
      "execution_count": null,
      "outputs": []
    },
    {
      "cell_type": "code",
      "metadata": {
        "id": "7_yzo1P6jWGk",
        "colab_type": "code",
        "colab": {}
      },
      "source": [
        "df['Adj. Close'].plot()\n",
        "df['Forecast'].plot()\n",
        "plt.legend(loc=4)\n",
        "plt.xlabel('Date')\n",
        "plt.ylabel('Price')\n",
        "plt.show()"
      ],
      "execution_count": null,
      "outputs": []
    },
    {
      "cell_type": "code",
      "metadata": {
        "id": "V8CjDeGFjyFI",
        "colab_type": "code",
        "colab": {}
      },
      "source": [
        "pickle_in = open('linearregression.pickle','rb')\n",
        "clf = pickle.load(pickle_in)\n",
        "print(clf.predict(X_lately))\n",
        "print(clf.score(X_test,y_test))"
      ],
      "execution_count": null,
      "outputs": []
    },
    {
      "cell_type": "code",
      "metadata": {
        "id": "cx5em3XInBIF",
        "colab_type": "code",
        "colab": {}
      },
      "source": [
        "pickle_in = open('SVR.pickle','rb')\n",
        "clf_1 = pickle.load(pickle_in)\n",
        "print(clf_1.predict(X_lately))\n",
        "print(clf_1.score(X_test,y_test))"
      ],
      "execution_count": null,
      "outputs": []
    },
    {
      "cell_type": "code",
      "metadata": {
        "id": "plmCRX6unN1X",
        "colab_type": "code",
        "colab": {}
      },
      "source": [
        ""
      ],
      "execution_count": null,
      "outputs": []
    }
  ]
}