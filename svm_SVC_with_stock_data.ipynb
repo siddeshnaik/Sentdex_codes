{
  "nbformat": 4,
  "nbformat_minor": 0,
  "metadata": {
    "colab": {
      "name": "Untitled13.ipynb",
      "provenance": [],
      "private_outputs": true
    },
    "kernelspec": {
      "name": "python3",
      "display_name": "Python 3"
    }
  },
  "cells": [
    {
      "cell_type": "code",
      "metadata": {
        "id": "seT6bsUvAoig",
        "colab_type": "code",
        "colab": {}
      },
      "source": [
        "import numpy as np\n",
        "import matplotlib.pyplot as plt\n",
        "from sklearn import svm\n",
        "import pandas as pd\n",
        "from matplotlib import style\n",
        "style.use(\"ggplot\")"
      ],
      "execution_count": null,
      "outputs": []
    },
    {
      "cell_type": "code",
      "metadata": {
        "id": "Dj-x5fZFCVWH",
        "colab_type": "code",
        "colab": {}
      },
      "source": [
        "data_df = pd.read_csv(\"/content/key_stats.csv\")"
      ],
      "execution_count": null,
      "outputs": []
    },
    {
      "cell_type": "code",
      "metadata": {
        "id": "XOo6JQxqCXov",
        "colab_type": "code",
        "colab": {}
      },
      "source": [
        "data_df"
      ],
      "execution_count": null,
      "outputs": []
    },
    {
      "cell_type": "code",
      "metadata": {
        "id": "kRPS5Y4VDJrb",
        "colab_type": "code",
        "colab": {}
      },
      "source": [
        "features = [\"DE Ratio\",\"Trailing P/E\"]\n",
        "X = np.array(data_df[features].values)\n",
        "print(X)\n",
        "print(data_df.Status)"
      ],
      "execution_count": null,
      "outputs": []
    },
    {
      "cell_type": "code",
      "metadata": {
        "id": "-sD5qLf-DOrz",
        "colab_type": "code",
        "colab": {}
      },
      "source": [
        "y = (data_df[\"Status\"].replace(\"underperform\",0).replace(\"outperform\",1).values.tolist())"
      ],
      "execution_count": null,
      "outputs": []
    },
    {
      "cell_type": "code",
      "metadata": {
        "id": "ZzYX9v7VDmR8",
        "colab_type": "code",
        "colab": {}
      },
      "source": [
        "clf = svm.SVC(kernel=\"linear\", C= 1.0)\n",
        "clf.fit(X,y)\n",
        "w = clf.coef_[0]\n",
        "a = -w[0] / w[1]\n",
        "xx = np.linspace(min(X[:, 0]), max(X[:, 0]))\n",
        "yy = a * xx - clf.intercept_[0] / w[1]\n",
        "\n",
        "h0 = plt.plot(xx,yy, \"k-\", label=\"non weighted\")\n",
        "\n",
        "plt.scatter(X[:, 0],X[:, 1],c=y)\n",
        "plt.ylabel(\"Trailing P/E\")\n",
        "plt.xlabel(\"DE Ratio\")\n",
        "plt.legend()\n",
        "\n",
        "plt.show()"
      ],
      "execution_count": null,
      "outputs": []
    },
    {
      "cell_type": "code",
      "metadata": {
        "id": "2he4rvCoEe63",
        "colab_type": "code",
        "colab": {}
      },
      "source": [
        ""
      ],
      "execution_count": null,
      "outputs": []
    }
  ]
}