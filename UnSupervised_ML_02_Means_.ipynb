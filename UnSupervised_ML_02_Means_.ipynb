{
  "nbformat": 4,
  "nbformat_minor": 0,
  "metadata": {
    "colab": {
      "name": "UnSupervised_ML_02.ipynb",
      "provenance": [],
      "private_outputs": true,
      "authorship_tag": "ABX9TyNeLGQTTWTrvo3L/XS5ZkJb",
      "include_colab_link": true
    },
    "kernelspec": {
      "name": "python3",
      "display_name": "Python 3"
    }
  },
  "cells": [
    {
      "cell_type": "markdown",
      "metadata": {
        "id": "view-in-github",
        "colab_type": "text"
      },
      "source": [
        "<a href=\"https://colab.research.google.com/github/siddeshnaik/Sentdex_codes/blob/master/UnSupervised_ML_02_Means_.ipynb\" target=\"_parent\"><img src=\"https://colab.research.google.com/assets/colab-badge.svg\" alt=\"Open In Colab\"/></a>"
      ]
    },
    {
      "cell_type": "code",
      "metadata": {
        "id": "sZweS_Fq9LzA",
        "colab_type": "code",
        "colab": {}
      },
      "source": [
        "import numpy as np\n",
        "from sklearn.cluster import MeanShift \n",
        "from sklearn.datasets.samples_generator import make_blobs\n",
        "import matplotlib.pyplot as plt "
      ],
      "execution_count": null,
      "outputs": []
    },
    {
      "cell_type": "code",
      "metadata": {
        "id": "eyf-xOCH98So",
        "colab_type": "code",
        "colab": {}
      },
      "source": [
        "user_centers =[[1,1],[5,5]]\n",
        "X, _ = make_blobs(n_samples=200, centers=user_centers, cluster_std=1.0)"
      ],
      "execution_count": null,
      "outputs": []
    },
    {
      "cell_type": "code",
      "metadata": {
        "id": "2rU0ffNP-nG1",
        "colab_type": "code",
        "colab": {}
      },
      "source": [
        "X[:10]"
      ],
      "execution_count": null,
      "outputs": []
    },
    {
      "cell_type": "code",
      "metadata": {
        "id": "UC10pd1Y-qnO",
        "colab_type": "code",
        "colab": {}
      },
      "source": [
        "_[:10]"
      ],
      "execution_count": null,
      "outputs": []
    },
    {
      "cell_type": "code",
      "metadata": {
        "id": "QH1v5U9S-r5Z",
        "colab_type": "code",
        "colab": {}
      },
      "source": [
        "plt.scatter(X[:,0],X[:,1])\n",
        "plt.show()"
      ],
      "execution_count": null,
      "outputs": []
    },
    {
      "cell_type": "code",
      "metadata": {
        "id": "dCtjmzyy-_-Q",
        "colab_type": "code",
        "colab": {}
      },
      "source": [
        "ms = MeanShift()\n",
        "ms.fit(X)\n",
        "labels = ms.labels_\n",
        "cluster_centers = ms.cluster_centers_"
      ],
      "execution_count": null,
      "outputs": []
    },
    {
      "cell_type": "code",
      "metadata": {
        "id": "bewpPH0u_oO9",
        "colab_type": "code",
        "colab": {}
      },
      "source": [
        "print(\"labels:\" ,labels,\"\\n\\n\",\"cluster_centers:\",cluster_centers)"
      ],
      "execution_count": null,
      "outputs": []
    },
    {
      "cell_type": "code",
      "metadata": {
        "id": "ZQveSZssA1s3",
        "colab_type": "code",
        "colab": {}
      },
      "source": [
        "n_clusters_ = len(np.unique(labels))\n",
        "print(\"Number of estimated clusters:\", n_clusters_)"
      ],
      "execution_count": null,
      "outputs": []
    },
    {
      "cell_type": "code",
      "metadata": {
        "id": "dWwZGEZKBJGI",
        "colab_type": "code",
        "colab": {}
      },
      "source": [
        "colors = 10*['r.','g.','b.','c.','k.','y.','m.']\n",
        "colors[:10]"
      ],
      "execution_count": null,
      "outputs": []
    },
    {
      "cell_type": "code",
      "metadata": {
        "id": "yx118zWfBNMb",
        "colab_type": "code",
        "colab": {}
      },
      "source": [
        "for i in range(len(X)):\n",
        "    plt.plot(X[i][0], X[i][1], colors[labels[i]], markersize = 10)\n",
        "\n",
        "plt.scatter(cluster_centers[:,0],cluster_centers[:,1],\n",
        "            marker=\"x\",color='k', s=150, linewidths = 5, zorder=10)\n",
        "\n",
        "plt.show()"
      ],
      "execution_count": null,
      "outputs": []
    },
    {
      "cell_type": "code",
      "metadata": {
        "id": "w8WBBpFuBUzR",
        "colab_type": "code",
        "colab": {}
      },
      "source": [
        ""
      ],
      "execution_count": null,
      "outputs": []
    }
  ]
}