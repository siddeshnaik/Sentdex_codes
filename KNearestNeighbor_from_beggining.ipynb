{
  "nbformat": 4,
  "nbformat_minor": 0,
  "metadata": {
    "colab": {
      "name": "KNearestNeighbor_from_beggining.ipynb",
      "provenance": [],
      "private_outputs": true,
      "collapsed_sections": [],
      "authorship_tag": "ABX9TyO6XKa97koienRKp68os6Yh",
      "include_colab_link": true
    },
    "kernelspec": {
      "name": "python3",
      "display_name": "Python 3"
    }
  },
  "cells": [
    {
      "cell_type": "markdown",
      "metadata": {
        "id": "view-in-github",
        "colab_type": "text"
      },
      "source": [
        "<a href=\"https://colab.research.google.com/github/siddeshnaik/Sentdex_codes/blob/master/KNearestNeighbor_from_beggining.ipynb\" target=\"_parent\"><img src=\"https://colab.research.google.com/assets/colab-badge.svg\" alt=\"Open In Colab\"/></a>"
      ]
    },
    {
      "cell_type": "code",
      "metadata": {
        "id": "WTKHsoM5Dt8z",
        "colab_type": "code",
        "colab": {}
      },
      "source": [
        "from math import sqrt\n",
        "plot1= [1,3]\n",
        "plot2 = [2,5]"
      ],
      "execution_count": null,
      "outputs": []
    },
    {
      "cell_type": "code",
      "metadata": {
        "id": "WZb24qwUEKZQ",
        "colab_type": "code",
        "colab": {}
      },
      "source": [
        "euclidean_distance = sqrt(((plot1[0]-plot2[0])**2) + ((plot1[1]-plot2[1])**2))"
      ],
      "execution_count": null,
      "outputs": []
    },
    {
      "cell_type": "code",
      "metadata": {
        "id": "IYFEWNSbEkBR",
        "colab_type": "code",
        "colab": {}
      },
      "source": [
        "print(\"eculidean distance:\",eculidean_distance)"
      ],
      "execution_count": null,
      "outputs": []
    },
    {
      "cell_type": "code",
      "metadata": {
        "id": "_jmBgk-xFXXr",
        "colab_type": "code",
        "colab": {}
      },
      "source": [
        "import numpy as np\n",
        "from matplotlib import pyplot as plt\n",
        "from matplotlib import style\n",
        "from collections import Counter\n",
        "import warnings"
      ],
      "execution_count": null,
      "outputs": []
    },
    {
      "cell_type": "code",
      "metadata": {
        "id": "Li_1RcI-F5ho",
        "colab_type": "code",
        "colab": {}
      },
      "source": [
        "style.use(\"fivethirtyeight\")"
      ],
      "execution_count": null,
      "outputs": []
    },
    {
      "cell_type": "code",
      "metadata": {
        "id": "ZuKplPivF_gp",
        "colab_type": "code",
        "colab": {}
      },
      "source": [
        "dataset = {'k':[[1,2],[2,3],[3,1]], 'r':[[6,5],[7,7],[8,6]]}\n",
        "new_features = [5,7]"
      ],
      "execution_count": null,
      "outputs": []
    },
    {
      "cell_type": "code",
      "metadata": {
        "id": "OF_xnbURGP8J",
        "colab_type": "code",
        "colab": {}
      },
      "source": [
        "for i in dataset:\n",
        "    for j in dataset[i]:\n",
        "        plt.scatter(j[0],j[1],s=100,color=i)\n",
        "\n",
        "plt.scatter(new_features[0],new_features[1],s=100,color = \"blue\")\n",
        "plt.show()"
      ],
      "execution_count": null,
      "outputs": []
    },
    {
      "cell_type": "code",
      "metadata": {
        "id": "4bf-C4ciHAqK",
        "colab_type": "code",
        "colab": {}
      },
      "source": [
        "# OR\n",
        "[[plt.scatter(j[0],j[1],s=100,color=i) for j in dataset[i]] for i in dataset]\n",
        "plt.scatter(new_features[0],new_features[1],s=100,color = \"blue\")\n",
        "plt.show()"
      ],
      "execution_count": null,
      "outputs": []
    },
    {
      "cell_type": "code",
      "metadata": {
        "id": "nf8VegnQHbp8",
        "colab_type": "code",
        "colab": {}
      },
      "source": [
        "# len(dataset) = 2\n",
        "def k_nearest_neighbors(data, predict, k=3):\n",
        "    if len(data) >=k:\n",
        "        warnings.warn(\"K is set to a value less than total voting groups!\")\n",
        "\n",
        "    distance = []\n",
        "    for group in data:\n",
        "        for features in data[group]:\n",
        "            #  euclidean_distance = np.sqrt(np.sum((np.array(features)-np.array(predict))**2)) \n",
        "            # Or\n",
        "            euclidean_distance = np.linalg.norm(np.array(features)-np.array(predict))\n",
        "            print(\"euclidean_distance:\",euclidean_distance)\n",
        "            distance.append([euclidean_distance, group])\n",
        "    \n",
        "    print(\"distance:\",distance)\n",
        "    print(\"sorted(distance):\",sorted(distance))\n",
        "\n",
        "    votes =[i[1] for i in sorted(distance)[:k]]\n",
        "    print(\"votes:\",votes)\n",
        "    print(\"Counter(votes):\",Counter(votes))\n",
        "    print(\"Counter(votes).most_common(1):\",Counter(votes).most_common(1))\n",
        "    print(\"Counter(votes).most_common(1)[0][0]:\",Counter(votes).most_common(1)[0][0])\n",
        "    \n",
        "    vote_result = Counter(votes).most_common(1)[0][0]\n",
        "\n",
        "    return vote_result "
      ],
      "execution_count": null,
      "outputs": []
    },
    {
      "cell_type": "code",
      "metadata": {
        "id": "uggNcSlcIp81",
        "colab_type": "code",
        "colab": {}
      },
      "source": [
        "result = k_nearest_neighbors(dataset, new_features, k=3)\n",
        "print(\"Result:\",result)"
      ],
      "execution_count": null,
      "outputs": []
    },
    {
      "cell_type": "code",
      "metadata": {
        "id": "JQEobq2GX_mM",
        "colab_type": "code",
        "colab": {}
      },
      "source": [
        "[[plt.scatter(j[0],j[1],s=100,color=i) for j in dataset[i]] for i in dataset]\n",
        "plt.scatter(new_features[0],new_features[1],s=50,color = result)\n",
        "plt.show()"
      ],
      "execution_count": null,
      "outputs": []
    },
    {
      "cell_type": "code",
      "metadata": {
        "id": "LDLhSDqBZtzF",
        "colab_type": "code",
        "colab": {}
      },
      "source": [
        "import pandas as pd\n",
        "import random"
      ],
      "execution_count": null,
      "outputs": []
    },
    {
      "cell_type": "code",
      "metadata": {
        "id": "me1dKnuEaTT4",
        "colab_type": "code",
        "colab": {}
      },
      "source": [
        "df = pd.read_csv(r\"/content/Breast_Cancer_data_set.csv\")\n",
        "df"
      ],
      "execution_count": null,
      "outputs": []
    },
    {
      "cell_type": "code",
      "metadata": {
        "id": "u5cisztaa2va",
        "colab_type": "code",
        "colab": {}
      },
      "source": [
        "df.drop(\"id\",axis=1,inplace=True)\n",
        "df.head()"
      ],
      "execution_count": null,
      "outputs": []
    },
    {
      "cell_type": "code",
      "metadata": {
        "id": "bgESySgJcms6",
        "colab_type": "code",
        "colab": {}
      },
      "source": [
        "df.diagnosis=df.diagnosis.replace(\"M\",1).replace(\"B\",2)  # M =1, B= 2\n",
        "df.head()"
      ],
      "execution_count": null,
      "outputs": []
    },
    {
      "cell_type": "code",
      "metadata": {
        "id": "eeLLywdDdq0O",
        "colab_type": "code",
        "colab": {}
      },
      "source": [
        "full_data = df.astype(float).values.tolist()\n",
        "print(full_data)"
      ],
      "execution_count": null,
      "outputs": []
    },
    {
      "cell_type": "code",
      "metadata": {
        "id": "cI-jau-cgLQr",
        "colab_type": "code",
        "colab": {}
      },
      "source": [
        "random.shuffle(full_data)\n",
        "print(20*\"#\")\n",
        "print(full_data)"
      ],
      "execution_count": null,
      "outputs": []
    },
    {
      "cell_type": "code",
      "metadata": {
        "id": "muVZM4LejSVp",
        "colab_type": "code",
        "colab": {}
      },
      "source": [
        "test_size = 0.2\n",
        "train_set = {2:[], 4:[]}\n",
        "test_set = {2:[], 4:[]}\n",
        "train_data = full_data[:-int(test_size*len(full_data))]\n",
        "test_data = full_data[-int(test_size*len(full_data)):]"
      ],
      "execution_count": null,
      "outputs": []
    },
    {
      "cell_type": "code",
      "metadata": {
        "id": "Tweb7k7FkU7Z",
        "colab_type": "code",
        "colab": {}
      },
      "source": [
        "print(len(train_data))\n",
        "print(len(test_data))"
      ],
      "execution_count": null,
      "outputs": []
    },
    {
      "cell_type": "code",
      "metadata": {
        "id": "R3K9UxbhkgHn",
        "colab_type": "code",
        "colab": {}
      },
      "source": [
        "test_size = 0.2\n",
        "train_set = {2:[], 4:[]}\n",
        "test_set = {2:[], 4:[]}\n",
        "train_data = full_data[:-int(test_size*len(full_data))]\n",
        "test_data = full_data[-int(test_size*len(full_data)):]\n",
        "print(train_data)\n",
        "print(test_data)"
      ],
      "execution_count": null,
      "outputs": []
    },
    {
      "cell_type": "code",
      "metadata": {
        "id": "BPE5IlAIlLad",
        "colab_type": "code",
        "colab": {}
      },
      "source": [
        "for i in train_data:\n",
        "    train_set[i[-1]].append(i[:-1])\n",
        "\n",
        "for i in test_data:\n",
        "    test_set[i[-1]].append(i[:-1])\n",
        "\n",
        "correct = 0\n",
        "total = 0\n",
        "\n",
        "for group in test_set:\n",
        "    for data in test_set[group]:\n",
        "        vote = k_nearest_neighbors(train_da, data, k=5)\n",
        "        if group == vote:\n",
        "            correct += 1\n",
        "        total += 1\n",
        "print('Accuracy:', correct/total)"
      ],
      "execution_count": null,
      "outputs": []
    },
    {
      "cell_type": "code",
      "metadata": {
        "id": "4jluBqkRnkYW",
        "colab_type": "code",
        "colab": {}
      },
      "source": [
        ""
      ],
      "execution_count": null,
      "outputs": []
    }
  ]
}