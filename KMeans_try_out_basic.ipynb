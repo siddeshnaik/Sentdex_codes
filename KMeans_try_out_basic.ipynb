{
  "nbformat": 4,
  "nbformat_minor": 0,
  "metadata": {
    "colab": {
      "name": "KMeans_try_out_basic.ipynb",
      "provenance": [],
      "private_outputs": true,
      "collapsed_sections": [],
      "authorship_tag": "ABX9TyPOP9F1nf8qba7Re7vKApS3",
      "include_colab_link": true
    },
    "kernelspec": {
      "name": "python3",
      "display_name": "Python 3"
    }
  },
  "cells": [
    {
      "cell_type": "markdown",
      "metadata": {
        "id": "view-in-github",
        "colab_type": "text"
      },
      "source": [
        "<a href=\"https://colab.research.google.com/github/siddeshnaik/Sentdex_codes/blob/master/KMeans_try_out_basic.ipynb\" target=\"_parent\"><img src=\"https://colab.research.google.com/assets/colab-badge.svg\" alt=\"Open In Colab\"/></a>"
      ]
    },
    {
      "cell_type": "code",
      "metadata": {
        "id": "VeiDIgR0eIEA",
        "colab_type": "code",
        "colab": {}
      },
      "source": [
        "import matplotlib.pyplot as plt\n",
        "from matplotlib import style\n",
        "import numpy as np\n",
        "from sklearn.cluster import KMeans\n",
        "style.use('ggplot')\n",
        "\n",
        "#ORIGINAL:\n",
        "\n",
        "X = np.array([[1, 2],\n",
        "              [1.5, 1.8],\n",
        "              [5, 8],\n",
        "              [8, 8],\n",
        "              [1, 0.6],\n",
        "              [9, 11]])\n",
        "\n",
        "\n",
        "plt.scatter(X[:, 0],X[:, 1], s=100, linewidths = 5, zorder = 10, color=\"b\")\n",
        "plt.show()"
      ],
      "execution_count": null,
      "outputs": []
    },
    {
      "cell_type": "code",
      "metadata": {
        "id": "DagTP8p2eYs_",
        "colab_type": "code",
        "colab": {}
      },
      "source": [
        "clf = KMeans(n_clusters=2)\n",
        "clf.fit(X)"
      ],
      "execution_count": null,
      "outputs": []
    },
    {
      "cell_type": "code",
      "metadata": {
        "id": "tQTrlhhufkl_",
        "colab_type": "code",
        "colab": {}
      },
      "source": [
        "centroids = clf.cluster_centers_\n",
        "labels = clf.labels_\n",
        "print(\"centroids: \\n\",centroids)\n",
        "print(\"labels:\",labels)"
      ],
      "execution_count": null,
      "outputs": []
    },
    {
      "cell_type": "code",
      "metadata": {
        "id": "gmGm3oIefu8C",
        "colab_type": "code",
        "colab": {}
      },
      "source": [
        "colors = [\"g.\",\"r.\",\"c.\",\"y.\"]\n",
        "for i in range(len(X)):\n",
        "    plt.plot(X[i][0], X[i][1], colors[labels[i]], markersize = 10)\n",
        "plt.scatter(centroids[:, 0],centroids[:, 1], marker = \"x\", s=150, linewidths = 5, zorder = 10)\n",
        "plt.show()"
      ],
      "execution_count": null,
      "outputs": []
    },
    {
      "cell_type": "code",
      "metadata": {
        "id": "-ueo8W0nkgF9",
        "colab_type": "code",
        "colab": {}
      },
      "source": [
        ""
      ],
      "execution_count": null,
      "outputs": []
    }
  ]
}