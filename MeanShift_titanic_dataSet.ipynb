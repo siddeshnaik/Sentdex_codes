{
  "nbformat": 4,
  "nbformat_minor": 0,
  "metadata": {
    "colab": {
      "name": "MeanShift_titanic_dataSet.ipynb",
      "provenance": [],
      "private_outputs": true,
      "collapsed_sections": [],
      "authorship_tag": "ABX9TyPpEpx6yr9f8U/bhQI9l0Lf",
      "include_colab_link": true
    },
    "kernelspec": {
      "name": "python3",
      "display_name": "Python 3"
    }
  },
  "cells": [
    {
      "cell_type": "markdown",
      "metadata": {
        "id": "view-in-github",
        "colab_type": "text"
      },
      "source": [
        "<a href=\"https://colab.research.google.com/github/siddeshnaik/Sentdex_codes/blob/master/MeanShift_titanic_dataSet.ipynb\" target=\"_parent\"><img src=\"https://colab.research.google.com/assets/colab-badge.svg\" alt=\"Open In Colab\"/></a>"
      ]
    },
    {
      "cell_type": "code",
      "metadata": {
        "id": "p5eWxdGZkVNv",
        "colab_type": "code",
        "colab": {}
      },
      "source": [
        "import numpy as np\n",
        "from sklearn.cluster import MeanShift, KMeans\n",
        "from sklearn import preprocessing\n",
        "import pandas as pd\n",
        "import matplotlib.pyplot as plt\n",
        "\n",
        "\n",
        "'''\n",
        "Pclass Passenger Class (1 = 1st; 2 = 2nd; 3 = 3rd)\n",
        "survival Survival (0 = No; 1 = Yes)\n",
        "name Name\n",
        "sex Sex\n",
        "age Age\n",
        "sibsp Number of Siblings/Spouses Aboard\n",
        "parch Number of Parents/Children Aboard\n",
        "ticket Ticket Number\n",
        "fare Passenger Fare (British pound)\n",
        "cabin Cabin\n",
        "embarked Port of Embarkation (C = Cherbourg; Q = Queenstown; S = Southampton)\n",
        "boat Lifeboat\n",
        "body Body Identification Number\n",
        "home.dest Home/Destination\n",
        "'''\n",
        "\n",
        "\n",
        "# https://pythonprogramming.net/static/downloads/machine-learning-data/titanic.xls\n",
        "df = pd.read_excel('titanic.xls')\n",
        "\n",
        "original_df = pd.DataFrame.copy(df)\n",
        "df.drop(['body','name'], 1, inplace=True)\n",
        "df.fillna(0,inplace=True)\n",
        "\n",
        "def handle_non_numerical_data(df):\n",
        "    \n",
        "    # handling non-numerical data: must convert.\n",
        "    columns = df.columns.values\n",
        "\n",
        "    for column in columns:\n",
        "        text_digit_vals = {}\n",
        "        def convert_to_int(val):\n",
        "            return text_digit_vals[val]\n",
        "\n",
        "        #print(column,df[column].dtype)\n",
        "        if df[column].dtype != np.int64 and df[column].dtype != np.float64:\n",
        "            \n",
        "            column_contents = df[column].values.tolist()\n",
        "            #finding just the uniques\n",
        "            unique_elements = set(column_contents)\n",
        "            # great, found them. \n",
        "            x = 0\n",
        "            for unique in unique_elements:\n",
        "                if unique not in text_digit_vals:\n",
        "                    # creating dict that contains new\n",
        "                    # id per unique string\n",
        "                    text_digit_vals[unique] = x\n",
        "                    x+=1\n",
        "            # now we map the new \"id\" vlaue\n",
        "            # to replace the string. \n",
        "            df[column] = list(map(convert_to_int,df[column]))\n",
        "\n",
        "    return df\n",
        "\n",
        "df = handle_non_numerical_data(df)\n",
        "df.drop(['ticket','home.dest'], 1, inplace=True)\n",
        "\n",
        "X = np.array(df.drop(['survived'], 1).astype(float))\n",
        "X = preprocessing.scale(X)\n",
        "y = np.array(df['survived'])\n",
        "\n",
        "clf = MeanShift()\n",
        "clf.fit(X)"
      ],
      "execution_count": null,
      "outputs": []
    },
    {
      "cell_type": "code",
      "metadata": {
        "id": "ZXFFUfeLkjz0",
        "colab_type": "code",
        "colab": {}
      },
      "source": [
        "labels = clf.labels_\n",
        "cluster_centers = clf.cluster_centers_\n",
        "print(\"labels\\n:\",labels)\n",
        "print(\"\\ncluster_centers:\\n\")"
      ],
      "execution_count": null,
      "outputs": []
    },
    {
      "cell_type": "code",
      "metadata": {
        "id": "iIMdxieOlwJC",
        "colab_type": "code",
        "colab": {}
      },
      "source": [
        "original_df['cluster_group']=np.nan"
      ],
      "execution_count": null,
      "outputs": []
    },
    {
      "cell_type": "code",
      "metadata": {
        "id": "wJGjBLUpl1qQ",
        "colab_type": "code",
        "colab": {}
      },
      "source": [
        "for i in range(len(X)):\n",
        "    original_df['cluster_group'].iloc[i] = labels[i]"
      ],
      "execution_count": null,
      "outputs": []
    },
    {
      "cell_type": "code",
      "metadata": {
        "id": "Dc-8gD33l6vR",
        "colab_type": "code",
        "colab": {}
      },
      "source": [
        "n_clusters_ = len(np.unique(labels))\n",
        "survival_rates = {}\n",
        "for i in range(n_clusters_):\n",
        "    temp_df = original_df[ (original_df['cluster_group']==float(i)) ]\n",
        "    print(temp_df.head())\n",
        "\n",
        "    survival_cluster = temp_df[  (temp_df['survived'] == 1) ]\n",
        "\n",
        "    survival_rate = len(survival_cluster) / len(temp_df)\n",
        "    print(i,survival_rate)\n",
        "    survival_rates[i] = survival_rate\n",
        "    \n",
        "print(survival_rates)"
      ],
      "execution_count": null,
      "outputs": []
    },
    {
      "cell_type": "code",
      "metadata": {
        "id": "rpLHzLe6mB2I",
        "colab_type": "code",
        "colab": {}
      },
      "source": [
        "original_df[ (original_df['cluster_group']==0) ]"
      ],
      "execution_count": null,
      "outputs": []
    },
    {
      "cell_type": "code",
      "metadata": {
        "id": "dtCQ9m7kn6WA",
        "colab_type": "code",
        "colab": {}
      },
      "source": [
        "original_df[ (original_df['cluster_group']==1) ]"
      ],
      "execution_count": null,
      "outputs": []
    },
    {
      "cell_type": "code",
      "metadata": {
        "id": "z-vsJh3PoDzE",
        "colab_type": "code",
        "colab": {}
      },
      "source": [
        "original_df[ (original_df['cluster_group']==2) ]"
      ],
      "execution_count": null,
      "outputs": []
    },
    {
      "cell_type": "code",
      "metadata": {
        "id": "h1tAN6GRoGTP",
        "colab_type": "code",
        "colab": {}
      },
      "source": [
        "original_df[ (original_df['cluster_group']==4) ]"
      ],
      "execution_count": null,
      "outputs": []
    },
    {
      "cell_type": "code",
      "metadata": {
        "id": "Sr6JbzyroI3t",
        "colab_type": "code",
        "colab": {}
      },
      "source": [
        ""
      ],
      "execution_count": null,
      "outputs": []
    }
  ]
}