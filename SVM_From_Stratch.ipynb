{
  "nbformat": 4,
  "nbformat_minor": 0,
  "metadata": {
    "colab": {
      "name": "SVM_From_Stratch.ipynb",
      "provenance": [],
      "private_outputs": true,
      "collapsed_sections": [],
      "authorship_tag": "ABX9TyNMFslsWIFzbBAMPC4sZteM",
      "include_colab_link": true
    },
    "kernelspec": {
      "name": "python3",
      "display_name": "Python 3"
    }
  },
  "cells": [
    {
      "cell_type": "markdown",
      "metadata": {
        "id": "view-in-github",
        "colab_type": "text"
      },
      "source": [
        "<a href=\"https://colab.research.google.com/github/siddeshnaik/Sentdex_codes/blob/master/SVM_From_Stratch.ipynb\" target=\"_parent\"><img src=\"https://colab.research.google.com/assets/colab-badge.svg\" alt=\"Open In Colab\"/></a>"
      ]
    },
    {
      "cell_type": "code",
      "metadata": {
        "id": "PhXaTWPfdR08",
        "colab_type": "code",
        "colab": {}
      },
      "source": [
        "import matplotlib.pyplot as plt\n",
        "from matplotlib import style\n",
        "style.use(\"ggplot\")\n",
        "import numpy as np\n"
      ],
      "execution_count": null,
      "outputs": []
    },
    {
      "cell_type": "code",
      "metadata": {
        "id": "tKxBVhEyerSU",
        "colab_type": "code",
        "colab": {}
      },
      "source": [
        "class support_vector_machine:\n",
        "    def __init__(self, visualization= True):\n",
        "        self.visualization = visualization\n",
        "        self.colors = {1:\"r\",-1:\"b\"}\n",
        "        if self.visualization:\n",
        "            self.fig = plt.figure()\n",
        "            self.ax = self.fig.add_subplot(1,1,1)\n",
        "    \n",
        "    def fit(self,data):\n",
        "        self.data = data\n",
        "        # { || W || :[w , b] }\n",
        "        opt_dict = {}\n",
        "        transforms = [[1,1],\n",
        "                      [-1,1],\n",
        "                      [-1,-1],\n",
        "                      [1,-1]]\n",
        "        \n",
        "        all_data = []\n",
        "        for yi in self.data:\n",
        "            for feature_set in self.data[yi]:\n",
        "                for feature in feature_set:\n",
        "                    all_data.append(feature)\n",
        "\n",
        "        self.max_feature_value = max(all_data)\n",
        "        self.min_feature_value = min(all_data)\n",
        "        all_data =None\n",
        "\n",
        "        step_sizes = [self.max_feature_value * 0.1,\n",
        "                      self.max_feature_value * 0.01,\n",
        "                      # starts getting very high cost after this.\n",
        "                      self.max_feature_value * 0.001]\n",
        "                    \n",
        "        # extremely expensive\n",
        "        b_range_multiple = 5\n",
        "        b_multiple = 5\n",
        "        latest_optimum = self.max_feature_value*10\n",
        " \n",
        "        for step in step_sizes:\n",
        "            w = np.array([latest_optimum,latest_optimum])\n",
        "            # we can do this because convex\n",
        "            optimized = False\n",
        "            while not optimized:\n",
        "                for b in np.arange(-1*(self.max_feature_value*b_range_multiple),self.max_feature_value*b_range_multiple,step*b_multiple):\n",
        "                    for transformation in transforms:\n",
        "                        w_t = w*transformation\n",
        "                        found_option = True\n",
        "                        # weakest link in the SVM fundamentally\n",
        "                        # SMO attempts to fix this a bit\n",
        "                        # yi(xi.w+b) >= 1\n",
        "                        # \n",
        "                        # #### add a break here later..\n",
        "                        for i in self.data:\n",
        "                            for xi in self.data[i]:\n",
        "                                yi=i\n",
        "                                if not yi*(np.dot(w_t,xi)+b) >= 1:\n",
        "                                    found_option = False\n",
        "                                    \n",
        "                        if found_option:\n",
        "                            opt_dict[np.linalg.norm(w_t)] = [w_t,b]\n",
        "\n",
        "                if w[0] < 0:\n",
        "                    optimized = True\n",
        "                    print('Optimized a step.')\n",
        "                else:\n",
        "                    w = w - step\n",
        "            \n",
        "            norms = sorted([n for n in opt_dict])\n",
        "            #||w|| : [w,b]\n",
        "            opt_choice = opt_dict[norms[0]]\n",
        "            self.w = opt_choice[0]\n",
        "            self.b = opt_choice[1]\n",
        "            latest_optimum = opt_choice[0][0]+step*2\n",
        "\n",
        "    def predict(self,features):\n",
        "        # sign( x.w+b )\n",
        "        classification = np.sign(np.dot(np.array(features),self.w)+self.b)\n",
        "        if classification !=0 and self.visualization:\n",
        "            self.ax.scatter(features[0], features[1], s=200, marker='*', c=self.colors[classification])\n",
        "        return classification\n",
        "\n",
        "    def visualize(self):\n",
        "        [[self.ax.scatter(x[0],x[1],s=100,color=self.colors[i]) for x in data_dict[i]] for i in data_dict]\n",
        "\n",
        "        # hyperplane = x.w+b\n",
        "        # v = x.w+b\n",
        "        # psv = 1\n",
        "        # nsv = -1\n",
        "        # dec = 0\n",
        "        def hyperplane(x,w,b,v):\n",
        "            return (-w[0]*x-b+v) / w[1]\n",
        "\n",
        "        datarange = (self.min_feature_value*0.9,self.max_feature_value*1.1)\n",
        "        hyp_x_min = datarange[0]\n",
        "        hyp_x_max = datarange[1]\n",
        "\n",
        "        # (w.x+b) = 1\n",
        "        # positive support vector hyperplane\n",
        "        psv1 = hyperplane(hyp_x_min, self.w, self.b, 1)\n",
        "        psv2 = hyperplane(hyp_x_max, self.w, self.b, 1)\n",
        "        self.ax.plot([hyp_x_min,hyp_x_max],[psv1,psv2], 'k')\n",
        "\n",
        "        # (w.x+b) = -1\n",
        "        # negative support vector hyperplane\n",
        "        nsv1 = hyperplane(hyp_x_min, self.w, self.b, -1)\n",
        "        nsv2 = hyperplane(hyp_x_max, self.w, self.b, -1)\n",
        "        self.ax.plot([hyp_x_min,hyp_x_max],[nsv1,nsv2], 'k')\n",
        "\n",
        "        # (w.x+b) = 0\n",
        "        # positive support vector hyperplane\n",
        "        db1 = hyperplane(hyp_x_min, self.w, self.b, 0)\n",
        "        db2 = hyperplane(hyp_x_max, self.w, self.b, 0)\n",
        "        self.ax.plot([hyp_x_min,hyp_x_max],[db1,db2], 'y--')\n",
        "\n",
        "        plt.show()"
      ],
      "execution_count": null,
      "outputs": []
    },
    {
      "cell_type": "code",
      "metadata": {
        "id": "lVQBRDEWeJbT",
        "colab_type": "code",
        "colab": {}
      },
      "source": [
        "data_dict={ -1:np.array([[1,7],[2,8],[3,8]]), 1:np.array([[5,1],[6,-1],[7,3]])}"
      ],
      "execution_count": null,
      "outputs": []
    },
    {
      "cell_type": "code",
      "metadata": {
        "id": "BuRUTZ7afI5G",
        "colab_type": "code",
        "colab": {}
      },
      "source": [
        "svm = support_vector_machine()\n",
        "svm.fit(data = data_dict)\n",
        "svm.visualize()"
      ],
      "execution_count": null,
      "outputs": []
    },
    {
      "cell_type": "code",
      "metadata": {
        "id": "d9RZTw182HUP",
        "colab_type": "code",
        "colab": {}
      },
      "source": [
        "predict_us = [[0,10],[1,3],[3,4],[3,5],[5,5],[5,6],[6,-5],[5,8]]"
      ],
      "execution_count": null,
      "outputs": []
    },
    {
      "cell_type": "code",
      "metadata": {
        "id": "Ughzr2KV3m0l",
        "colab_type": "code",
        "colab": {}
      },
      "source": [
        "for p in predict_us:\n",
        "    svm.predict(p)\n",
        "\n",
        "svm.visualize()"
      ],
      "execution_count": null,
      "outputs": []
    },
    {
      "cell_type": "code",
      "metadata": {
        "id": "AXLJIWqn3xjS",
        "colab_type": "code",
        "colab": {}
      },
      "source": [
        ""
      ],
      "execution_count": null,
      "outputs": []
    }
  ]
}